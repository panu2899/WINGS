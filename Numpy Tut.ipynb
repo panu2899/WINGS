{
 "cells": [
  {
   "cell_type": "markdown",
   "id": "792b4d9a",
   "metadata": {},
   "source": [
    "# Numpy "
   ]
  },
  {
   "cell_type": "code",
   "execution_count": null,
   "id": "71d7f231",
   "metadata": {},
   "outputs": [],
   "source": []
  },
  {
   "cell_type": "raw",
   "id": "a3417ee2",
   "metadata": {},
   "source": [
    "import numpy as np                      #For importing numy lib\n",
    "arr = np.array(list)                    #for creation of array using list\n",
    "arr = np.arange(0,10,2)                 #arange methood(start,end,step)\n",
    "arr = np.linspace(0,10,100)             #linspace methood(start,end,num) \n",
    "arr = np.zeros((3,4))                   #zeros methood(nor,noc) use 2 brackets\n",
    "arr = np.ones((3,4))                    #Ones Methhod(nor,noc) use 2 brackets\n",
    "arr = np.eye(5)                         #eye methood(single input) for identity matrix Creation\n",
    "arr = np.random.rand(4)                 #rand methood(single num bcoz 1d arry creation)\n",
    "arr = np.random.rand(4,4)               #rand methood(nor,noc)  coz 2d array creation\n",
    "arr = np.random.randn(2)                #randn Methood(single num coz 1d array Creation) ND\n",
    "arr = np.random.randn(4,3)              #randn Methood(nor,noc) 2d array creation        ND\n",
    "arr = np.random.randint(0,50,10)        #randint Methood(low,high,num)\n"
   ]
  },
  {
   "cell_type": "raw",
   "id": "efa082ad",
   "metadata": {},
   "source": [
    "arr2 = arr.reshape(5,2)                 #arrname.reshape(nor,noc)      \n",
    "arr2.max()                              #arrname.max() gives max element in arr\n",
    "arr2.min()                              #arrname.min() gives min element in arr\n",
    "arr2.argmax()                           #arrname.argmax() gives the index where max element in arr \n",
    "arr2.argmin()                           #arrname.argmin() gives the index where min element in arr\n",
    "arr2.shape                              #arrname.shape Gives shape of array\n",
    "arr2.dtype                              #arrname.dtype Gives datatype of array  \n",
    "arr2 = arr.copy()                       #arrname.copy() for copying array\n"
   ]
  },
  {
   "cell_type": "raw",
   "id": "bde06c1d",
   "metadata": {},
   "source": [
    "arr[0,2]                                #arr[which row,which column]\n",
    "arr[0]                                  #arr[which row] for whole row\n",
    "arr[0:2,1:]                             #for sectional selection\n",
    "a = arr>5                               #return boolean value\n",
    "arr2 =arr[arr>5]                        #return value greater than 5"
   ]
  },
  {
   "cell_type": "raw",
   "id": "564f52df",
   "metadata": {},
   "source": [
    "np.sqrt(arr)                            #give square root of array\n",
    "np.exp(arr)                             #give exponant of array\n",
    "np.sin(arr)                             #give sin value of array\n",
    "np.sum(arr)                             #give sum of array\n",
    "np.mean(arr)                            #give mean of array\n",
    "np.std(arr)                             #give std of array"
   ]
  },
  {
   "cell_type": "code",
   "execution_count": 117,
   "id": "8958efdd",
   "metadata": {},
   "outputs": [],
   "source": [
    "list = [1,2,3,4]\n",
    "list1 =[[1,2,3,4],[5,6,7,8]]"
   ]
  },
  {
   "cell_type": "code",
   "execution_count": 118,
   "id": "a81fe0d1",
   "metadata": {},
   "outputs": [],
   "source": [
    "import numpy as np                      #For importing numy lib"
   ]
  },
  {
   "cell_type": "code",
   "execution_count": 119,
   "id": "62ee5c02",
   "metadata": {},
   "outputs": [
    {
     "data": {
      "text/plain": [
       "array([1, 2, 3, 4])"
      ]
     },
     "execution_count": 119,
     "metadata": {},
     "output_type": "execute_result"
    }
   ],
   "source": [
    "np.array(list)                          #for creation of array "
   ]
  },
  {
   "cell_type": "code",
   "execution_count": 120,
   "id": "1a3eecf6",
   "metadata": {},
   "outputs": [
    {
     "data": {
      "text/plain": [
       "array([[1, 2, 3, 4],\n",
       "       [5, 6, 7, 8]])"
      ]
     },
     "execution_count": 120,
     "metadata": {},
     "output_type": "execute_result"
    }
   ],
   "source": [
    "np.array(list1)"
   ]
  },
  {
   "cell_type": "markdown",
   "id": "eee49e91",
   "metadata": {},
   "source": [
    " **<span style='color:green'> This 2 brackets indicates that it is 2d array </span>**"
   ]
  },
  {
   "cell_type": "markdown",
   "id": "ce23a641",
   "metadata": {},
   "source": [
    "## **<span style='color:blue'> MORE METHOODS FOR ARRAY CREATION </span>**"
   ]
  },
  {
   "cell_type": "code",
   "execution_count": 121,
   "id": "1319e924",
   "metadata": {},
   "outputs": [
    {
     "data": {
      "text/plain": [
       "array([0, 2, 4, 6, 8])"
      ]
     },
     "execution_count": 121,
     "metadata": {},
     "output_type": "execute_result"
    }
   ],
   "source": [
    "arr = np.arange(0,10,2)                     #arange methood(start,end,step)\n",
    "arr"
   ]
  },
  {
   "cell_type": "code",
   "execution_count": 122,
   "id": "8a2139de",
   "metadata": {},
   "outputs": [
    {
     "data": {
      "text/plain": [
       "array([ 0.        ,  0.1010101 ,  0.2020202 ,  0.3030303 ,  0.4040404 ,\n",
       "        0.50505051,  0.60606061,  0.70707071,  0.80808081,  0.90909091,\n",
       "        1.01010101,  1.11111111,  1.21212121,  1.31313131,  1.41414141,\n",
       "        1.51515152,  1.61616162,  1.71717172,  1.81818182,  1.91919192,\n",
       "        2.02020202,  2.12121212,  2.22222222,  2.32323232,  2.42424242,\n",
       "        2.52525253,  2.62626263,  2.72727273,  2.82828283,  2.92929293,\n",
       "        3.03030303,  3.13131313,  3.23232323,  3.33333333,  3.43434343,\n",
       "        3.53535354,  3.63636364,  3.73737374,  3.83838384,  3.93939394,\n",
       "        4.04040404,  4.14141414,  4.24242424,  4.34343434,  4.44444444,\n",
       "        4.54545455,  4.64646465,  4.74747475,  4.84848485,  4.94949495,\n",
       "        5.05050505,  5.15151515,  5.25252525,  5.35353535,  5.45454545,\n",
       "        5.55555556,  5.65656566,  5.75757576,  5.85858586,  5.95959596,\n",
       "        6.06060606,  6.16161616,  6.26262626,  6.36363636,  6.46464646,\n",
       "        6.56565657,  6.66666667,  6.76767677,  6.86868687,  6.96969697,\n",
       "        7.07070707,  7.17171717,  7.27272727,  7.37373737,  7.47474747,\n",
       "        7.57575758,  7.67676768,  7.77777778,  7.87878788,  7.97979798,\n",
       "        8.08080808,  8.18181818,  8.28282828,  8.38383838,  8.48484848,\n",
       "        8.58585859,  8.68686869,  8.78787879,  8.88888889,  8.98989899,\n",
       "        9.09090909,  9.19191919,  9.29292929,  9.39393939,  9.49494949,\n",
       "        9.5959596 ,  9.6969697 ,  9.7979798 ,  9.8989899 , 10.        ])"
      ]
     },
     "execution_count": 122,
     "metadata": {},
     "output_type": "execute_result"
    }
   ],
   "source": [
    "arr = np.linspace(0,10,100)                #linspace methhod(start,end,num) \n",
    "arr"
   ]
  },
  {
   "cell_type": "code",
   "execution_count": 123,
   "id": "da3be68d",
   "metadata": {},
   "outputs": [
    {
     "data": {
      "text/plain": [
       "array([0., 0., 0.])"
      ]
     },
     "execution_count": 123,
     "metadata": {},
     "output_type": "execute_result"
    }
   ],
   "source": [
    "arr = np.zeros(3)\n",
    "arr"
   ]
  },
  {
   "cell_type": "code",
   "execution_count": 124,
   "id": "0828c31f",
   "metadata": {},
   "outputs": [
    {
     "data": {
      "text/plain": [
       "array([[0., 0., 0., 0.],\n",
       "       [0., 0., 0., 0.],\n",
       "       [0., 0., 0., 0.]])"
      ]
     },
     "execution_count": 124,
     "metadata": {},
     "output_type": "execute_result"
    }
   ],
   "source": [
    "arr= np.zeros((3,4))                     # zeros methood(nor,noc) use 2 brackets                   \n",
    "arr"
   ]
  },
  {
   "cell_type": "code",
   "execution_count": 125,
   "id": "b7b42140",
   "metadata": {},
   "outputs": [
    {
     "data": {
      "text/plain": [
       "array([1., 1., 1., 1.])"
      ]
     },
     "execution_count": 125,
     "metadata": {},
     "output_type": "execute_result"
    }
   ],
   "source": [
    "arr = np.ones(4)\n",
    "arr"
   ]
  },
  {
   "cell_type": "code",
   "execution_count": 126,
   "id": "ec616e24",
   "metadata": {},
   "outputs": [
    {
     "data": {
      "text/plain": [
       "array([[1., 1., 1., 1.],\n",
       "       [1., 1., 1., 1.],\n",
       "       [1., 1., 1., 1.]])"
      ]
     },
     "execution_count": 126,
     "metadata": {},
     "output_type": "execute_result"
    }
   ],
   "source": [
    "arr = np.ones((3,4))                    #Ones Methhod(nor,noc) use 2 brackets\n",
    "arr"
   ]
  },
  {
   "cell_type": "code",
   "execution_count": 127,
   "id": "52e29c37",
   "metadata": {},
   "outputs": [
    {
     "data": {
      "text/plain": [
       "array([[1., 0., 0., 0., 0.],\n",
       "       [0., 1., 0., 0., 0.],\n",
       "       [0., 0., 1., 0., 0.],\n",
       "       [0., 0., 0., 1., 0.],\n",
       "       [0., 0., 0., 0., 1.]])"
      ]
     },
     "execution_count": 127,
     "metadata": {},
     "output_type": "execute_result"
    }
   ],
   "source": [
    "arr = np.eye(5)                        #eye methood(single input) for identity matrix Creation\n",
    "arr"
   ]
  },
  {
   "cell_type": "code",
   "execution_count": 128,
   "id": "db894730",
   "metadata": {},
   "outputs": [
    {
     "data": {
      "text/plain": [
       "array([0.86590373, 0.00106576, 0.40588825, 0.80316603])"
      ]
     },
     "execution_count": 128,
     "metadata": {},
     "output_type": "execute_result"
    }
   ],
   "source": [
    "arr = np.random.rand(4)                #rand methood(single num bcoz 1d arry creation)\n",
    "arr"
   ]
  },
  {
   "cell_type": "code",
   "execution_count": 129,
   "id": "75078df4",
   "metadata": {},
   "outputs": [
    {
     "data": {
      "text/plain": [
       "array([[0.4867727 , 0.00766313, 0.74120211, 0.37226502],\n",
       "       [0.33308467, 0.38964473, 0.25742679, 0.85373918],\n",
       "       [0.9081192 , 0.56749924, 0.92378578, 0.21880219],\n",
       "       [0.5250583 , 0.25309337, 0.68917274, 0.20335049]])"
      ]
     },
     "execution_count": 129,
     "metadata": {},
     "output_type": "execute_result"
    }
   ],
   "source": [
    "arr = np.random.rand(4,4)             #rand methood(nor,noc)  coz 2d array creation         \n",
    "arr"
   ]
  },
  {
   "cell_type": "code",
   "execution_count": 130,
   "id": "1607898f",
   "metadata": {},
   "outputs": [
    {
     "data": {
      "text/plain": [
       "array([-0.26858766,  0.14952433])"
      ]
     },
     "execution_count": 130,
     "metadata": {},
     "output_type": "execute_result"
    }
   ],
   "source": [
    "arr = np.random.randn(2)                       #randn Methood(single num coz 1d array Creation)\n",
    "arr"
   ]
  },
  {
   "cell_type": "code",
   "execution_count": 131,
   "id": "fa1e57f7",
   "metadata": {},
   "outputs": [
    {
     "data": {
      "text/plain": [
       "array([[-2.16282488, -0.15721737, -0.40076853],\n",
       "       [ 0.31021595,  0.74944585,  0.87819421],\n",
       "       [-0.17088493, -0.25796176, -3.17566232],\n",
       "       [ 1.58310623, -1.81656241,  0.50444186]])"
      ]
     },
     "execution_count": 131,
     "metadata": {},
     "output_type": "execute_result"
    }
   ],
   "source": [
    "arr = np.random.randn(4,3)                     #randn Methood(nor,noc) 2d array creation\n",
    "arr"
   ]
  },
  {
   "cell_type": "code",
   "execution_count": 132,
   "id": "f9e7be5b",
   "metadata": {},
   "outputs": [
    {
     "data": {
      "text/plain": [
       "array([40,  5, 17, 36,  4,  4, 21, 15, 28,  6])"
      ]
     },
     "execution_count": 132,
     "metadata": {},
     "output_type": "execute_result"
    }
   ],
   "source": [
    "arr = np.random.randint(0,50,10)               #randint Methood(low,high,num)\n",
    "arr"
   ]
  },
  {
   "cell_type": "markdown",
   "id": "fd6d489c",
   "metadata": {},
   "source": [
    "# **<span style='color:blue'> Functions </span>**"
   ]
  },
  {
   "cell_type": "code",
   "execution_count": 133,
   "id": "b02975d7",
   "metadata": {},
   "outputs": [
    {
     "data": {
      "text/plain": [
       "array([[40,  5],\n",
       "       [17, 36],\n",
       "       [ 4,  4],\n",
       "       [21, 15],\n",
       "       [28,  6]])"
      ]
     },
     "execution_count": 133,
     "metadata": {},
     "output_type": "execute_result"
    }
   ],
   "source": [
    "arr2 = arr.reshape(5,2)                        #arrname.reshape(nor,noc)                    \n",
    "arr2"
   ]
  },
  {
   "cell_type": "code",
   "execution_count": 134,
   "id": "138f061a",
   "metadata": {},
   "outputs": [
    {
     "data": {
      "text/plain": [
       "40"
      ]
     },
     "execution_count": 134,
     "metadata": {},
     "output_type": "execute_result"
    }
   ],
   "source": [
    "arr2.max()                                    #arrname.max() gives max element in arr"
   ]
  },
  {
   "cell_type": "code",
   "execution_count": 135,
   "id": "50fc41f6",
   "metadata": {},
   "outputs": [
    {
     "data": {
      "text/plain": [
       "4"
      ]
     },
     "execution_count": 135,
     "metadata": {},
     "output_type": "execute_result"
    }
   ],
   "source": [
    "arr2.min()                                    #arrname.min() gives max element in arr"
   ]
  },
  {
   "cell_type": "code",
   "execution_count": 136,
   "id": "c699e7a7",
   "metadata": {},
   "outputs": [
    {
     "data": {
      "text/plain": [
       "0"
      ]
     },
     "execution_count": 136,
     "metadata": {},
     "output_type": "execute_result"
    }
   ],
   "source": [
    "arr2.argmax()                                 #arrname.argmax() gives the index where max element in arr                           \n"
   ]
  },
  {
   "cell_type": "code",
   "execution_count": 137,
   "id": "bb3ecec8",
   "metadata": {},
   "outputs": [
    {
     "data": {
      "text/plain": [
       "4"
      ]
     },
     "execution_count": 137,
     "metadata": {},
     "output_type": "execute_result"
    }
   ],
   "source": [
    "arr2.argmin()                                #arrname.argmin() gives the index where min element in arr"
   ]
  },
  {
   "cell_type": "code",
   "execution_count": 138,
   "id": "e2e20726",
   "metadata": {},
   "outputs": [
    {
     "data": {
      "text/plain": [
       "(5, 2)"
      ]
     },
     "execution_count": 138,
     "metadata": {},
     "output_type": "execute_result"
    }
   ],
   "source": [
    "arr2.shape                                   #arrname.shape Gives shape of array"
   ]
  },
  {
   "cell_type": "code",
   "execution_count": 139,
   "id": "1379b871",
   "metadata": {},
   "outputs": [
    {
     "data": {
      "text/plain": [
       "dtype('int32')"
      ]
     },
     "execution_count": 139,
     "metadata": {},
     "output_type": "execute_result"
    }
   ],
   "source": [
    "arr2.dtype                                   #arrname.dtype Gives datatype of array                                   "
   ]
  },
  {
   "cell_type": "code",
   "execution_count": null,
   "id": "f979e129",
   "metadata": {},
   "outputs": [],
   "source": []
  },
  {
   "cell_type": "markdown",
   "id": "0b5e07fc",
   "metadata": {},
   "source": [
    "# **<span style='color:blue'> Indexing & Selection </span>**"
   ]
  },
  {
   "cell_type": "code",
   "execution_count": 140,
   "id": "f9d89cd0",
   "metadata": {},
   "outputs": [
    {
     "data": {
      "text/plain": [
       "array([ 0,  1,  2,  3,  4,  5,  6,  7,  8,  9, 10])"
      ]
     },
     "execution_count": 140,
     "metadata": {},
     "output_type": "execute_result"
    }
   ],
   "source": [
    "arr = np.arange(11)\n",
    "arr"
   ]
  },
  {
   "cell_type": "code",
   "execution_count": 141,
   "id": "f296b84c",
   "metadata": {},
   "outputs": [
    {
     "data": {
      "text/plain": [
       "0"
      ]
     },
     "execution_count": 141,
     "metadata": {},
     "output_type": "execute_result"
    }
   ],
   "source": [
    "arr[0]"
   ]
  },
  {
   "cell_type": "code",
   "execution_count": 142,
   "id": "0460e066",
   "metadata": {},
   "outputs": [
    {
     "data": {
      "text/plain": [
       "10"
      ]
     },
     "execution_count": 142,
     "metadata": {},
     "output_type": "execute_result"
    }
   ],
   "source": [
    "arr[10]"
   ]
  },
  {
   "cell_type": "code",
   "execution_count": 143,
   "id": "a759c290",
   "metadata": {},
   "outputs": [
    {
     "data": {
      "text/plain": [
       "array([ 1,  2,  3,  4,  5,  6,  7,  8,  9, 10])"
      ]
     },
     "execution_count": 143,
     "metadata": {},
     "output_type": "execute_result"
    }
   ],
   "source": [
    "arr[1:]"
   ]
  },
  {
   "cell_type": "code",
   "execution_count": 144,
   "id": "484d0f7b",
   "metadata": {},
   "outputs": [],
   "source": [
    "arr [0:5] = 100"
   ]
  },
  {
   "cell_type": "code",
   "execution_count": 145,
   "id": "4fa5d195",
   "metadata": {},
   "outputs": [
    {
     "data": {
      "text/plain": [
       "array([100, 100, 100, 100, 100,   5,   6,   7,   8,   9,  10])"
      ]
     },
     "execution_count": 145,
     "metadata": {},
     "output_type": "execute_result"
    }
   ],
   "source": [
    "arr"
   ]
  },
  {
   "cell_type": "code",
   "execution_count": 146,
   "id": "dbc9a0d4",
   "metadata": {},
   "outputs": [
    {
     "data": {
      "text/plain": [
       "array([100, 100, 100, 100, 100,   5,   6,   7,   8,   9,  10])"
      ]
     },
     "execution_count": 146,
     "metadata": {},
     "output_type": "execute_result"
    }
   ],
   "source": [
    "arr2 = arr.copy()                    #arrname.copy() for copying array\n",
    "arr"
   ]
  },
  {
   "cell_type": "markdown",
   "id": "c1bb464f",
   "metadata": {},
   "source": [
    "* 2d Array Slicing"
   ]
  },
  {
   "cell_type": "code",
   "execution_count": 147,
   "id": "8d49e77c",
   "metadata": {},
   "outputs": [
    {
     "data": {
      "text/plain": [
       "array([[ 5, 10, 15],\n",
       "       [20, 25, 30],\n",
       "       [35, 40, 45]])"
      ]
     },
     "execution_count": 147,
     "metadata": {},
     "output_type": "execute_result"
    }
   ],
   "source": [
    "arr = np.array([[5,10,15],[20,25,30],[35,40,45]])\n",
    "arr"
   ]
  },
  {
   "cell_type": "code",
   "execution_count": 148,
   "id": "c5b5437d",
   "metadata": {},
   "outputs": [
    {
     "data": {
      "text/plain": [
       "15"
      ]
     },
     "execution_count": 148,
     "metadata": {},
     "output_type": "execute_result"
    }
   ],
   "source": [
    "arr[0,2]                            #arr[which row,which column]"
   ]
  },
  {
   "cell_type": "code",
   "execution_count": 149,
   "id": "51cd82d2",
   "metadata": {},
   "outputs": [
    {
     "data": {
      "text/plain": [
       "array([ 5, 10, 15])"
      ]
     },
     "execution_count": 149,
     "metadata": {},
     "output_type": "execute_result"
    }
   ],
   "source": [
    "arr[0]                              #arr[which row] for whole row"
   ]
  },
  {
   "cell_type": "code",
   "execution_count": 150,
   "id": "e360a2b0",
   "metadata": {},
   "outputs": [
    {
     "data": {
      "text/plain": [
       "array([[20, 25, 30],\n",
       "       [35, 40, 45]])"
      ]
     },
     "execution_count": 150,
     "metadata": {},
     "output_type": "execute_result"
    }
   ],
   "source": [
    "arr[1:,:]"
   ]
  },
  {
   "cell_type": "code",
   "execution_count": 151,
   "id": "c2b816df",
   "metadata": {},
   "outputs": [
    {
     "data": {
      "text/plain": [
       "array([[10, 15],\n",
       "       [25, 30]])"
      ]
     },
     "execution_count": 151,
     "metadata": {},
     "output_type": "execute_result"
    }
   ],
   "source": [
    "arr[0:2,1:]"
   ]
  },
  {
   "cell_type": "code",
   "execution_count": 152,
   "id": "43b41296",
   "metadata": {},
   "outputs": [
    {
     "data": {
      "text/plain": [
       "array([ 0,  1,  2,  3,  4,  5,  6,  7,  8,  9, 10])"
      ]
     },
     "execution_count": 152,
     "metadata": {},
     "output_type": "execute_result"
    }
   ],
   "source": [
    "arr = np.arange(0,11)\n",
    "arr"
   ]
  },
  {
   "cell_type": "code",
   "execution_count": 153,
   "id": "45a10f19",
   "metadata": {},
   "outputs": [
    {
     "data": {
      "text/plain": [
       "array([ 6,  7,  8,  9, 10])"
      ]
     },
     "execution_count": 153,
     "metadata": {},
     "output_type": "execute_result"
    }
   ],
   "source": [
    "arr2 =arr[arr>5]\n",
    "arr2"
   ]
  },
  {
   "cell_type": "code",
   "execution_count": 154,
   "id": "e4184095",
   "metadata": {},
   "outputs": [
    {
     "data": {
      "text/plain": [
       "array([False, False, False, False, False, False,  True,  True,  True,\n",
       "        True,  True])"
      ]
     },
     "execution_count": 154,
     "metadata": {},
     "output_type": "execute_result"
    }
   ],
   "source": [
    "a = arr>5\n",
    "a"
   ]
  },
  {
   "cell_type": "code",
   "execution_count": 155,
   "id": "ea974959",
   "metadata": {},
   "outputs": [
    {
     "data": {
      "text/plain": [
       "array([ 6,  7,  8,  9, 10])"
      ]
     },
     "execution_count": 155,
     "metadata": {},
     "output_type": "execute_result"
    }
   ],
   "source": [
    "arr[a]"
   ]
  },
  {
   "cell_type": "markdown",
   "id": "4f285a7f",
   "metadata": {},
   "source": [
    "# Numpy Operations:"
   ]
  },
  {
   "cell_type": "code",
   "execution_count": 156,
   "id": "702061ee",
   "metadata": {},
   "outputs": [],
   "source": [
    "arr = np.arange(0,11)        "
   ]
  },
  {
   "cell_type": "code",
   "execution_count": 157,
   "id": "39a5eacd",
   "metadata": {},
   "outputs": [
    {
     "data": {
      "text/plain": [
       "array([ 0,  1,  2,  3,  4,  5,  6,  7,  8,  9, 10])"
      ]
     },
     "execution_count": 157,
     "metadata": {},
     "output_type": "execute_result"
    }
   ],
   "source": [
    "arr"
   ]
  },
  {
   "cell_type": "code",
   "execution_count": 158,
   "id": "711c14d3",
   "metadata": {},
   "outputs": [
    {
     "data": {
      "text/plain": [
       "array([ 0,  2,  4,  6,  8, 10, 12, 14, 16, 18, 20])"
      ]
     },
     "execution_count": 158,
     "metadata": {},
     "output_type": "execute_result"
    }
   ],
   "source": [
    "arr + arr"
   ]
  },
  {
   "cell_type": "code",
   "execution_count": 159,
   "id": "5bb81d70",
   "metadata": {},
   "outputs": [
    {
     "data": {
      "text/plain": [
       "array([0.        , 1.        , 1.41421356, 1.73205081, 2.        ,\n",
       "       2.23606798, 2.44948974, 2.64575131, 2.82842712, 3.        ,\n",
       "       3.16227766])"
      ]
     },
     "execution_count": 159,
     "metadata": {},
     "output_type": "execute_result"
    }
   ],
   "source": [
    "np.sqrt(arr)     # give square root of array"
   ]
  },
  {
   "cell_type": "code",
   "execution_count": 160,
   "id": "df6f3e9c",
   "metadata": {},
   "outputs": [
    {
     "data": {
      "text/plain": [
       "array([1.00000000e+00, 2.71828183e+00, 7.38905610e+00, 2.00855369e+01,\n",
       "       5.45981500e+01, 1.48413159e+02, 4.03428793e+02, 1.09663316e+03,\n",
       "       2.98095799e+03, 8.10308393e+03, 2.20264658e+04])"
      ]
     },
     "execution_count": 160,
     "metadata": {},
     "output_type": "execute_result"
    }
   ],
   "source": [
    "np.exp(arr)      # give exponant of array"
   ]
  },
  {
   "cell_type": "code",
   "execution_count": 161,
   "id": "a0800a99",
   "metadata": {},
   "outputs": [
    {
     "data": {
      "text/plain": [
       "array([ 0.        ,  0.84147098,  0.90929743,  0.14112001, -0.7568025 ,\n",
       "       -0.95892427, -0.2794155 ,  0.6569866 ,  0.98935825,  0.41211849,\n",
       "       -0.54402111])"
      ]
     },
     "execution_count": 161,
     "metadata": {},
     "output_type": "execute_result"
    }
   ],
   "source": [
    "np.sin(arr)    #give sin value of arr"
   ]
  },
  {
   "cell_type": "code",
   "execution_count": null,
   "id": "da13f6de",
   "metadata": {},
   "outputs": [],
   "source": []
  }
 ],
 "metadata": {
  "kernelspec": {
   "display_name": "Python 3",
   "language": "python",
   "name": "python3"
  },
  "language_info": {
   "codemirror_mode": {
    "name": "ipython",
    "version": 3
   },
   "file_extension": ".py",
   "mimetype": "text/x-python",
   "name": "python",
   "nbconvert_exporter": "python",
   "pygments_lexer": "ipython3",
   "version": "3.8.8"
  }
 },
 "nbformat": 4,
 "nbformat_minor": 5
}
